{
 "cells": [
  {
   "cell_type": "code",
   "execution_count": null,
   "id": "6d04549f",
   "metadata": {},
   "outputs": [],
   "source": [
    "# 텍스트 분석 순서\n",
    "# 문장 -> 분석 -> \n",
    "\n",
    "\n",
    "# Step 1. 필요한 모듈을 실행합니다.\n",
    "from konlpy.tag import Kkma\n",
    "import matplotlib.pyplot as plt\n",
    "from matplotlib import font_manager, rc\n",
    "from wordcloud import WordCloud\n",
    "\n",
    "# wordcloud 설치시 에러뜨면 setuptools 설치하기 (install -U)\n",
    "\n",
    "\n",
    "\n",
    "\n",
    "\n"
   ]
  }
 ],
 "metadata": {
  "kernelspec": {
   "display_name": "Python 3 (ipykernel)",
   "language": "python",
   "name": "python3"
  },
  "language_info": {
   "codemirror_mode": {
    "name": "ipython",
    "version": 3
   },
   "file_extension": ".py",
   "mimetype": "text/x-python",
   "name": "python",
   "nbconvert_exporter": "python",
   "pygments_lexer": "ipython3",
   "version": "3.10.1"
  }
 },
 "nbformat": 4,
 "nbformat_minor": 5
}
